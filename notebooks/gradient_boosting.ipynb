{
 "cells": [
  {
   "cell_type": "markdown",
   "metadata": {},
   "source": [
    "# Boosting: Fit and evaluate a model\n",
    "\n",
    "Using the Titanic dataset from [this](https://www.kaggle.com/c/titanic/overview) Kaggle competition.\n",
    "\n",
    "In this section, we will fit and evaluate a simple Gradient Boosting model."
   ]
  },
  {
   "cell_type": "markdown",
   "metadata": {},
   "source": [
    "### Read in Data"
   ]
  },
  {
   "cell_type": "code",
   "execution_count": 1,
   "metadata": {},
   "outputs": [],
   "source": [
    "import joblib\n",
    "import pandas as pd\n",
    "from sklearn.ensemble import GradientBoostingClassifier\n",
    "from sklearn.model_selection import GridSearchCV\n",
    "import warnings\n",
    "warnings.filterwarnings('ignore', category=FutureWarning)\n",
    "warnings.filterwarnings('ignore', category=DeprecationWarning)\n",
    "\n",
    "tr_features = pd.read_csv('../data/train_features.csv')\n",
    "tr_labels = pd.read_csv('../data/train_labels.csv')"
   ]
  },
  {
   "cell_type": "markdown",
   "metadata": {},
   "source": [
    "### Hyperparameter tuning\n",
    "\n",
    "![GB](../references/gradient_boosting.png)"
   ]
  },
  {
   "cell_type": "code",
   "execution_count": 2,
   "metadata": {},
   "outputs": [],
   "source": [
    "def print_results(results):\n",
    "    print('BEST PARAMS: {}\\n'.format(results.best_params_))\n",
    "    means = results.cv_results_['mean_test_score']\n",
    "    stds = results.cv_results_['std_test_score']\n",
    "    for mean, std, params in zip(means, stds, results.cv_results_['params']):\n",
    "        print('{} (+/-{}) for {}'.format(round(mean, 3), round(std * 2, 3), params))"
   ]
  },
  {
   "cell_type": "code",
   "execution_count": 3,
   "metadata": {},
   "outputs": [
    {
     "data": {
      "text/plain": [
       "GridSearchCV(cv=5, estimator=GradientBoostingClassifier(),\n",
       "             param_grid={'learning_rate': [0.01, 0.1, 1, 10, 100],\n",
       "                         'max_depth': [1, 3, 5, 7, 9],\n",
       "                         'n_estimators': [5, 50, 250, 500]})"
      ]
     },
     "execution_count": 3,
     "metadata": {},
     "output_type": "execute_result"
    }
   ],
   "source": [
    "gb = GradientBoostingClassifier()\n",
    "parameters = {'n_estimators': [5, 50, 250, 500], 'max_depth': [1, 3, 5, 7, 9], 'learning_rate': [0.01, 0.1, 1, 10, 100]}\n",
    "\n",
    "cv = GridSearchCV(gb, parameters, cv=5)\n",
    "cv.fit(tr_features, tr_labels.values.ravel())"
   ]
  },
  {
   "cell_type": "markdown",
   "metadata": {},
   "source": [
    "### Write out pickled model"
   ]
  },
  {
   "cell_type": "code",
   "execution_count": 4,
   "metadata": {},
   "outputs": [
    {
     "name": "stdout",
     "output_type": "stream",
     "text": [
      "BEST PARAMS: {'learning_rate': 0.01, 'max_depth': 3, 'n_estimators': 500}\n",
      "\n",
      "0.624 (+/-0.007) for {'learning_rate': 0.01, 'max_depth': 1, 'n_estimators': 5}\n",
      "0.796 (+/-0.115) for {'learning_rate': 0.01, 'max_depth': 1, 'n_estimators': 50}\n",
      "0.796 (+/-0.115) for {'learning_rate': 0.01, 'max_depth': 1, 'n_estimators': 250}\n",
      "0.811 (+/-0.117) for {'learning_rate': 0.01, 'max_depth': 1, 'n_estimators': 500}\n",
      "0.624 (+/-0.007) for {'learning_rate': 0.01, 'max_depth': 3, 'n_estimators': 5}\n",
      "0.811 (+/-0.069) for {'learning_rate': 0.01, 'max_depth': 3, 'n_estimators': 50}\n",
      "0.83 (+/-0.074) for {'learning_rate': 0.01, 'max_depth': 3, 'n_estimators': 250}\n",
      "0.841 (+/-0.077) for {'learning_rate': 0.01, 'max_depth': 3, 'n_estimators': 500}\n",
      "0.624 (+/-0.007) for {'learning_rate': 0.01, 'max_depth': 5, 'n_estimators': 5}\n",
      "0.822 (+/-0.052) for {'learning_rate': 0.01, 'max_depth': 5, 'n_estimators': 50}\n",
      "0.818 (+/-0.043) for {'learning_rate': 0.01, 'max_depth': 5, 'n_estimators': 250}\n",
      "0.822 (+/-0.037) for {'learning_rate': 0.01, 'max_depth': 5, 'n_estimators': 500}\n",
      "0.624 (+/-0.007) for {'learning_rate': 0.01, 'max_depth': 7, 'n_estimators': 5}\n",
      "0.817 (+/-0.049) for {'learning_rate': 0.01, 'max_depth': 7, 'n_estimators': 50}\n",
      "0.82 (+/-0.038) for {'learning_rate': 0.01, 'max_depth': 7, 'n_estimators': 250}\n",
      "0.798 (+/-0.026) for {'learning_rate': 0.01, 'max_depth': 7, 'n_estimators': 500}\n",
      "0.624 (+/-0.007) for {'learning_rate': 0.01, 'max_depth': 9, 'n_estimators': 5}\n",
      "0.803 (+/-0.059) for {'learning_rate': 0.01, 'max_depth': 9, 'n_estimators': 50}\n",
      "0.803 (+/-0.035) for {'learning_rate': 0.01, 'max_depth': 9, 'n_estimators': 250}\n",
      "0.788 (+/-0.05) for {'learning_rate': 0.01, 'max_depth': 9, 'n_estimators': 500}\n",
      "0.796 (+/-0.115) for {'learning_rate': 0.1, 'max_depth': 1, 'n_estimators': 5}\n",
      "0.815 (+/-0.119) for {'learning_rate': 0.1, 'max_depth': 1, 'n_estimators': 50}\n",
      "0.818 (+/-0.111) for {'learning_rate': 0.1, 'max_depth': 1, 'n_estimators': 250}\n",
      "0.828 (+/-0.092) for {'learning_rate': 0.1, 'max_depth': 1, 'n_estimators': 500}\n",
      "0.813 (+/-0.071) for {'learning_rate': 0.1, 'max_depth': 3, 'n_estimators': 5}\n",
      "0.839 (+/-0.076) for {'learning_rate': 0.1, 'max_depth': 3, 'n_estimators': 50}\n",
      "0.83 (+/-0.035) for {'learning_rate': 0.1, 'max_depth': 3, 'n_estimators': 250}\n",
      "0.811 (+/-0.036) for {'learning_rate': 0.1, 'max_depth': 3, 'n_estimators': 500}\n",
      "0.817 (+/-0.045) for {'learning_rate': 0.1, 'max_depth': 5, 'n_estimators': 5}\n",
      "0.816 (+/-0.032) for {'learning_rate': 0.1, 'max_depth': 5, 'n_estimators': 50}\n",
      "0.809 (+/-0.025) for {'learning_rate': 0.1, 'max_depth': 5, 'n_estimators': 250}\n",
      "0.8 (+/-0.032) for {'learning_rate': 0.1, 'max_depth': 5, 'n_estimators': 500}\n",
      "0.818 (+/-0.048) for {'learning_rate': 0.1, 'max_depth': 7, 'n_estimators': 5}\n",
      "0.792 (+/-0.049) for {'learning_rate': 0.1, 'max_depth': 7, 'n_estimators': 50}\n",
      "0.796 (+/-0.021) for {'learning_rate': 0.1, 'max_depth': 7, 'n_estimators': 250}\n",
      "0.787 (+/-0.029) for {'learning_rate': 0.1, 'max_depth': 7, 'n_estimators': 500}\n",
      "0.798 (+/-0.048) for {'learning_rate': 0.1, 'max_depth': 9, 'n_estimators': 5}\n",
      "0.79 (+/-0.033) for {'learning_rate': 0.1, 'max_depth': 9, 'n_estimators': 50}\n",
      "0.787 (+/-0.038) for {'learning_rate': 0.1, 'max_depth': 9, 'n_estimators': 250}\n",
      "0.796 (+/-0.042) for {'learning_rate': 0.1, 'max_depth': 9, 'n_estimators': 500}\n",
      "0.818 (+/-0.099) for {'learning_rate': 1, 'max_depth': 1, 'n_estimators': 5}\n",
      "0.832 (+/-0.081) for {'learning_rate': 1, 'max_depth': 1, 'n_estimators': 50}\n",
      "0.826 (+/-0.077) for {'learning_rate': 1, 'max_depth': 1, 'n_estimators': 250}\n",
      "0.822 (+/-0.081) for {'learning_rate': 1, 'max_depth': 1, 'n_estimators': 500}\n",
      "0.824 (+/-0.057) for {'learning_rate': 1, 'max_depth': 3, 'n_estimators': 5}\n",
      "0.79 (+/-0.039) for {'learning_rate': 1, 'max_depth': 3, 'n_estimators': 50}\n",
      "0.783 (+/-0.036) for {'learning_rate': 1, 'max_depth': 3, 'n_estimators': 250}\n",
      "0.794 (+/-0.031) for {'learning_rate': 1, 'max_depth': 3, 'n_estimators': 500}\n",
      "0.794 (+/-0.029) for {'learning_rate': 1, 'max_depth': 5, 'n_estimators': 5}\n",
      "0.787 (+/-0.021) for {'learning_rate': 1, 'max_depth': 5, 'n_estimators': 50}\n",
      "0.79 (+/-0.018) for {'learning_rate': 1, 'max_depth': 5, 'n_estimators': 250}\n",
      "0.802 (+/-0.039) for {'learning_rate': 1, 'max_depth': 5, 'n_estimators': 500}\n",
      "0.785 (+/-0.049) for {'learning_rate': 1, 'max_depth': 7, 'n_estimators': 5}\n",
      "0.807 (+/-0.042) for {'learning_rate': 1, 'max_depth': 7, 'n_estimators': 50}\n",
      "0.79 (+/-0.03) for {'learning_rate': 1, 'max_depth': 7, 'n_estimators': 250}\n",
      "0.785 (+/-0.047) for {'learning_rate': 1, 'max_depth': 7, 'n_estimators': 500}\n",
      "0.779 (+/-0.025) for {'learning_rate': 1, 'max_depth': 9, 'n_estimators': 5}\n",
      "0.796 (+/-0.048) for {'learning_rate': 1, 'max_depth': 9, 'n_estimators': 50}\n",
      "0.815 (+/-0.063) for {'learning_rate': 1, 'max_depth': 9, 'n_estimators': 250}\n",
      "0.796 (+/-0.046) for {'learning_rate': 1, 'max_depth': 9, 'n_estimators': 500}\n",
      "0.204 (+/-0.115) for {'learning_rate': 10, 'max_depth': 1, 'n_estimators': 5}\n",
      "0.204 (+/-0.115) for {'learning_rate': 10, 'max_depth': 1, 'n_estimators': 50}\n",
      "0.204 (+/-0.115) for {'learning_rate': 10, 'max_depth': 1, 'n_estimators': 250}\n",
      "0.204 (+/-0.115) for {'learning_rate': 10, 'max_depth': 1, 'n_estimators': 500}\n",
      "0.307 (+/-0.195) for {'learning_rate': 10, 'max_depth': 3, 'n_estimators': 5}\n",
      "0.307 (+/-0.195) for {'learning_rate': 10, 'max_depth': 3, 'n_estimators': 50}\n",
      "0.307 (+/-0.195) for {'learning_rate': 10, 'max_depth': 3, 'n_estimators': 250}\n",
      "0.307 (+/-0.195) for {'learning_rate': 10, 'max_depth': 3, 'n_estimators': 500}\n",
      "0.417 (+/-0.265) for {'learning_rate': 10, 'max_depth': 5, 'n_estimators': 5}\n",
      "0.391 (+/-0.186) for {'learning_rate': 10, 'max_depth': 5, 'n_estimators': 50}\n",
      "0.44 (+/-0.257) for {'learning_rate': 10, 'max_depth': 5, 'n_estimators': 250}\n",
      "0.442 (+/-0.263) for {'learning_rate': 10, 'max_depth': 5, 'n_estimators': 500}\n",
      "0.607 (+/-0.136) for {'learning_rate': 10, 'max_depth': 7, 'n_estimators': 5}\n",
      "0.59 (+/-0.251) for {'learning_rate': 10, 'max_depth': 7, 'n_estimators': 50}\n",
      "0.624 (+/-0.2) for {'learning_rate': 10, 'max_depth': 7, 'n_estimators': 250}\n",
      "0.607 (+/-0.216) for {'learning_rate': 10, 'max_depth': 7, 'n_estimators': 500}\n",
      "0.695 (+/-0.118) for {'learning_rate': 10, 'max_depth': 9, 'n_estimators': 5}\n",
      "0.676 (+/-0.1) for {'learning_rate': 10, 'max_depth': 9, 'n_estimators': 50}\n",
      "0.7 (+/-0.104) for {'learning_rate': 10, 'max_depth': 9, 'n_estimators': 250}\n",
      "0.656 (+/-0.09) for {'learning_rate': 10, 'max_depth': 9, 'n_estimators': 500}\n",
      "0.376 (+/-0.007) for {'learning_rate': 100, 'max_depth': 1, 'n_estimators': 5}\n",
      "0.376 (+/-0.007) for {'learning_rate': 100, 'max_depth': 1, 'n_estimators': 50}\n",
      "0.376 (+/-0.007) for {'learning_rate': 100, 'max_depth': 1, 'n_estimators': 250}\n",
      "0.376 (+/-0.007) for {'learning_rate': 100, 'max_depth': 1, 'n_estimators': 500}\n",
      "0.29 (+/-0.102) for {'learning_rate': 100, 'max_depth': 3, 'n_estimators': 5}\n",
      "0.29 (+/-0.102) for {'learning_rate': 100, 'max_depth': 3, 'n_estimators': 50}\n",
      "0.29 (+/-0.102) for {'learning_rate': 100, 'max_depth': 3, 'n_estimators': 250}\n",
      "0.29 (+/-0.102) for {'learning_rate': 100, 'max_depth': 3, 'n_estimators': 500}\n",
      "0.363 (+/-0.197) for {'learning_rate': 100, 'max_depth': 5, 'n_estimators': 5}\n",
      "0.365 (+/-0.194) for {'learning_rate': 100, 'max_depth': 5, 'n_estimators': 50}\n",
      "0.354 (+/-0.192) for {'learning_rate': 100, 'max_depth': 5, 'n_estimators': 250}\n",
      "0.357 (+/-0.186) for {'learning_rate': 100, 'max_depth': 5, 'n_estimators': 500}\n",
      "0.565 (+/-0.138) for {'learning_rate': 100, 'max_depth': 7, 'n_estimators': 5}\n",
      "0.584 (+/-0.081) for {'learning_rate': 100, 'max_depth': 7, 'n_estimators': 50}\n",
      "0.567 (+/-0.125) for {'learning_rate': 100, 'max_depth': 7, 'n_estimators': 250}\n",
      "0.565 (+/-0.111) for {'learning_rate': 100, 'max_depth': 7, 'n_estimators': 500}\n",
      "0.682 (+/-0.081) for {'learning_rate': 100, 'max_depth': 9, 'n_estimators': 5}\n",
      "0.682 (+/-0.131) for {'learning_rate': 100, 'max_depth': 9, 'n_estimators': 50}\n",
      "0.676 (+/-0.067) for {'learning_rate': 100, 'max_depth': 9, 'n_estimators': 250}\n",
      "0.642 (+/-0.103) for {'learning_rate': 100, 'max_depth': 9, 'n_estimators': 500}\n"
     ]
    }
   ],
   "source": [
    "print_results(cv)"
   ]
  },
  {
   "cell_type": "code",
   "execution_count": 5,
   "metadata": {},
   "outputs": [
    {
     "name": "stdout",
     "output_type": "stream",
     "text": [
      "GradientBoostingClassifier(learning_rate=0.01, n_estimators=500)\n"
     ]
    }
   ],
   "source": [
    "print(cv.best_estimator_)"
   ]
  },
  {
   "cell_type": "code",
   "execution_count": 6,
   "metadata": {},
   "outputs": [
    {
     "data": {
      "text/plain": [
       "['../models/GB_model.pkl']"
      ]
     },
     "execution_count": 6,
     "metadata": {},
     "output_type": "execute_result"
    }
   ],
   "source": [
    "joblib.dump(cv.best_estimator_, '../models/GB_model.pkl')"
   ]
  }
 ],
 "metadata": {
  "kernelspec": {
   "display_name": "Python 3 (ipykernel)",
   "language": "python",
   "name": "python3"
  },
  "language_info": {
   "codemirror_mode": {
    "name": "ipython",
    "version": 3
   },
   "file_extension": ".py",
   "mimetype": "text/x-python",
   "name": "python",
   "nbconvert_exporter": "python",
   "pygments_lexer": "ipython3",
   "version": "3.8.9"
  }
 },
 "nbformat": 4,
 "nbformat_minor": 2
}
