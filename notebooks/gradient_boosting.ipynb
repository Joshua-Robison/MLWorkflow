{
 "cells": [
  {
   "cell_type": "markdown",
   "metadata": {},
   "source": [
    "# Boosting: Fit and evaluate a model\n",
    "\n",
    "Using the Titanic dataset from [this](https://www.kaggle.com/c/titanic/overview) Kaggle competition.\n",
    "\n",
    "In this section, we will fit and evaluate a simple Gradient Boosting model."
   ]
  },
  {
   "cell_type": "markdown",
   "metadata": {},
   "source": [
    "### Read in Data"
   ]
  },
  {
   "cell_type": "code",
   "execution_count": 1,
   "metadata": {},
   "outputs": [],
   "source": [
    "import joblib\n",
    "import pandas as pd\n",
    "from sklearn.ensemble import GradientBoostingClassifier\n",
    "from sklearn.model_selection import GridSearchCV\n",
    "import warnings\n",
    "\n",
    "warnings.filterwarnings(\"ignore\", category=FutureWarning)\n",
    "warnings.filterwarnings(\"ignore\", category=DeprecationWarning)\n",
    "\n",
    "tr_features = pd.read_csv(\"../data/train_features.csv\")\n",
    "tr_labels = pd.read_csv(\"../data/train_labels.csv\")"
   ]
  },
  {
   "cell_type": "markdown",
   "metadata": {},
   "source": [
    "### Hyperparameter tuning\n",
    "\n",
    "![GB](../references/gradient_boosting.png)"
   ]
  },
  {
   "cell_type": "code",
   "execution_count": 2,
   "metadata": {},
   "outputs": [],
   "source": [
    "def print_results(results):\n",
    "    print(\"BEST PARAMS: {}\\n\".format(results.best_params_))\n",
    "    means = results.cv_results_[\"mean_test_score\"]\n",
    "    stds = results.cv_results_[\"std_test_score\"]\n",
    "    for mean, std, params in zip(means, stds, results.cv_results_[\"params\"]):\n",
    "        print(\"{} (+/-{}) for {}\".format(round(mean, 3), round(std * 2, 3), params))"
   ]
  },
  {
   "cell_type": "code",
   "execution_count": 3,
   "metadata": {},
   "outputs": [
    {
     "data": {
      "text/plain": [
       "GridSearchCV(cv=5, estimator=GradientBoostingClassifier(),\n",
       "             param_grid={'learning_rate': [0.01, 0.1, 1, 10, 100],\n",
       "                         'max_depth': [1, 3, 5, 7, 9],\n",
       "                         'n_estimators': [5, 50, 250, 500]})"
      ]
     },
     "execution_count": 3,
     "metadata": {},
     "output_type": "execute_result"
    }
   ],
   "source": [
    "gb = GradientBoostingClassifier()\n",
    "parameters = {\n",
    "    \"n_estimators\": [5, 50, 250, 500],\n",
    "    \"max_depth\": [1, 3, 5, 7, 9],\n",
    "    \"learning_rate\": [0.01, 0.1, 1, 10, 100],\n",
    "}\n",
    "\n",
    "cv = GridSearchCV(gb, parameters, cv=5)\n",
    "cv.fit(tr_features, tr_labels.values.ravel())"
   ]
  },
  {
   "cell_type": "markdown",
   "metadata": {},
   "source": [
    "### Write out pickled model"
   ]
  },
  {
   "cell_type": "code",
   "execution_count": 4,
   "metadata": {},
   "outputs": [
    {
     "name": "stdout",
     "output_type": "stream",
     "text": [
      "BEST PARAMS: {'learning_rate': 0.01, 'max_depth': 3, 'n_estimators': 500}\n",
      "\n",
      "0.624 (+/-0.007) for {'learning_rate': 0.01, 'max_depth': 1, 'n_estimators': 5}\n",
      "0.796 (+/-0.115) for {'learning_rate': 0.01, 'max_depth': 1, 'n_estimators': 50}\n",
      "0.796 (+/-0.115) for {'learning_rate': 0.01, 'max_depth': 1, 'n_estimators': 250}\n",
      "0.811 (+/-0.117) for {'learning_rate': 0.01, 'max_depth': 1, 'n_estimators': 500}\n",
      "0.624 (+/-0.007) for {'learning_rate': 0.01, 'max_depth': 3, 'n_estimators': 5}\n",
      "0.811 (+/-0.069) for {'learning_rate': 0.01, 'max_depth': 3, 'n_estimators': 50}\n",
      "0.83 (+/-0.074) for {'learning_rate': 0.01, 'max_depth': 3, 'n_estimators': 250}\n",
      "0.841 (+/-0.077) for {'learning_rate': 0.01, 'max_depth': 3, 'n_estimators': 500}\n",
      "0.624 (+/-0.007) for {'learning_rate': 0.01, 'max_depth': 5, 'n_estimators': 5}\n",
      "0.82 (+/-0.051) for {'learning_rate': 0.01, 'max_depth': 5, 'n_estimators': 50}\n",
      "0.818 (+/-0.043) for {'learning_rate': 0.01, 'max_depth': 5, 'n_estimators': 250}\n",
      "0.822 (+/-0.037) for {'learning_rate': 0.01, 'max_depth': 5, 'n_estimators': 500}\n",
      "0.624 (+/-0.007) for {'learning_rate': 0.01, 'max_depth': 7, 'n_estimators': 5}\n",
      "0.817 (+/-0.049) for {'learning_rate': 0.01, 'max_depth': 7, 'n_estimators': 50}\n",
      "0.82 (+/-0.043) for {'learning_rate': 0.01, 'max_depth': 7, 'n_estimators': 250}\n",
      "0.803 (+/-0.031) for {'learning_rate': 0.01, 'max_depth': 7, 'n_estimators': 500}\n",
      "0.624 (+/-0.007) for {'learning_rate': 0.01, 'max_depth': 9, 'n_estimators': 5}\n",
      "0.803 (+/-0.059) for {'learning_rate': 0.01, 'max_depth': 9, 'n_estimators': 50}\n",
      "0.796 (+/-0.046) for {'learning_rate': 0.01, 'max_depth': 9, 'n_estimators': 250}\n",
      "0.788 (+/-0.049) for {'learning_rate': 0.01, 'max_depth': 9, 'n_estimators': 500}\n",
      "0.796 (+/-0.115) for {'learning_rate': 0.1, 'max_depth': 1, 'n_estimators': 5}\n",
      "0.815 (+/-0.119) for {'learning_rate': 0.1, 'max_depth': 1, 'n_estimators': 50}\n",
      "0.818 (+/-0.111) for {'learning_rate': 0.1, 'max_depth': 1, 'n_estimators': 250}\n",
      "0.828 (+/-0.092) for {'learning_rate': 0.1, 'max_depth': 1, 'n_estimators': 500}\n",
      "0.813 (+/-0.071) for {'learning_rate': 0.1, 'max_depth': 3, 'n_estimators': 5}\n",
      "0.837 (+/-0.074) for {'learning_rate': 0.1, 'max_depth': 3, 'n_estimators': 50}\n",
      "0.828 (+/-0.039) for {'learning_rate': 0.1, 'max_depth': 3, 'n_estimators': 250}\n",
      "0.809 (+/-0.04) for {'learning_rate': 0.1, 'max_depth': 3, 'n_estimators': 500}\n",
      "0.817 (+/-0.045) for {'learning_rate': 0.1, 'max_depth': 5, 'n_estimators': 5}\n",
      "0.826 (+/-0.027) for {'learning_rate': 0.1, 'max_depth': 5, 'n_estimators': 50}\n",
      "0.8 (+/-0.049) for {'learning_rate': 0.1, 'max_depth': 5, 'n_estimators': 250}\n",
      "0.798 (+/-0.034) for {'learning_rate': 0.1, 'max_depth': 5, 'n_estimators': 500}\n",
      "0.82 (+/-0.049) for {'learning_rate': 0.1, 'max_depth': 7, 'n_estimators': 5}\n",
      "0.794 (+/-0.016) for {'learning_rate': 0.1, 'max_depth': 7, 'n_estimators': 50}\n",
      "0.798 (+/-0.049) for {'learning_rate': 0.1, 'max_depth': 7, 'n_estimators': 250}\n",
      "0.792 (+/-0.029) for {'learning_rate': 0.1, 'max_depth': 7, 'n_estimators': 500}\n",
      "0.796 (+/-0.036) for {'learning_rate': 0.1, 'max_depth': 9, 'n_estimators': 5}\n",
      "0.792 (+/-0.044) for {'learning_rate': 0.1, 'max_depth': 9, 'n_estimators': 50}\n",
      "0.798 (+/-0.051) for {'learning_rate': 0.1, 'max_depth': 9, 'n_estimators': 250}\n",
      "0.783 (+/-0.046) for {'learning_rate': 0.1, 'max_depth': 9, 'n_estimators': 500}\n",
      "0.818 (+/-0.099) for {'learning_rate': 1, 'max_depth': 1, 'n_estimators': 5}\n",
      "0.832 (+/-0.081) for {'learning_rate': 1, 'max_depth': 1, 'n_estimators': 50}\n",
      "0.826 (+/-0.077) for {'learning_rate': 1, 'max_depth': 1, 'n_estimators': 250}\n",
      "0.822 (+/-0.081) for {'learning_rate': 1, 'max_depth': 1, 'n_estimators': 500}\n",
      "0.82 (+/-0.061) for {'learning_rate': 1, 'max_depth': 3, 'n_estimators': 5}\n",
      "0.792 (+/-0.042) for {'learning_rate': 1, 'max_depth': 3, 'n_estimators': 50}\n",
      "0.788 (+/-0.043) for {'learning_rate': 1, 'max_depth': 3, 'n_estimators': 250}\n",
      "0.792 (+/-0.032) for {'learning_rate': 1, 'max_depth': 3, 'n_estimators': 500}\n",
      "0.785 (+/-0.033) for {'learning_rate': 1, 'max_depth': 5, 'n_estimators': 5}\n",
      "0.783 (+/-0.027) for {'learning_rate': 1, 'max_depth': 5, 'n_estimators': 50}\n",
      "0.787 (+/-0.03) for {'learning_rate': 1, 'max_depth': 5, 'n_estimators': 250}\n",
      "0.796 (+/-0.013) for {'learning_rate': 1, 'max_depth': 5, 'n_estimators': 500}\n",
      "0.788 (+/-0.056) for {'learning_rate': 1, 'max_depth': 7, 'n_estimators': 5}\n",
      "0.79 (+/-0.032) for {'learning_rate': 1, 'max_depth': 7, 'n_estimators': 50}\n",
      "0.796 (+/-0.049) for {'learning_rate': 1, 'max_depth': 7, 'n_estimators': 250}\n",
      "0.775 (+/-0.034) for {'learning_rate': 1, 'max_depth': 7, 'n_estimators': 500}\n",
      "0.788 (+/-0.028) for {'learning_rate': 1, 'max_depth': 9, 'n_estimators': 5}\n",
      "0.79 (+/-0.046) for {'learning_rate': 1, 'max_depth': 9, 'n_estimators': 50}\n",
      "0.788 (+/-0.054) for {'learning_rate': 1, 'max_depth': 9, 'n_estimators': 250}\n",
      "0.783 (+/-0.067) for {'learning_rate': 1, 'max_depth': 9, 'n_estimators': 500}\n",
      "0.204 (+/-0.115) for {'learning_rate': 10, 'max_depth': 1, 'n_estimators': 5}\n",
      "0.204 (+/-0.115) for {'learning_rate': 10, 'max_depth': 1, 'n_estimators': 50}\n",
      "0.204 (+/-0.115) for {'learning_rate': 10, 'max_depth': 1, 'n_estimators': 250}\n",
      "0.204 (+/-0.115) for {'learning_rate': 10, 'max_depth': 1, 'n_estimators': 500}\n",
      "0.307 (+/-0.195) for {'learning_rate': 10, 'max_depth': 3, 'n_estimators': 5}\n",
      "0.307 (+/-0.195) for {'learning_rate': 10, 'max_depth': 3, 'n_estimators': 50}\n",
      "0.307 (+/-0.195) for {'learning_rate': 10, 'max_depth': 3, 'n_estimators': 250}\n",
      "0.307 (+/-0.195) for {'learning_rate': 10, 'max_depth': 3, 'n_estimators': 500}\n",
      "0.44 (+/-0.247) for {'learning_rate': 10, 'max_depth': 5, 'n_estimators': 5}\n",
      "0.384 (+/-0.172) for {'learning_rate': 10, 'max_depth': 5, 'n_estimators': 50}\n",
      "0.386 (+/-0.171) for {'learning_rate': 10, 'max_depth': 5, 'n_estimators': 250}\n",
      "0.414 (+/-0.264) for {'learning_rate': 10, 'max_depth': 5, 'n_estimators': 500}\n",
      "0.586 (+/-0.107) for {'learning_rate': 10, 'max_depth': 7, 'n_estimators': 5}\n",
      "0.618 (+/-0.179) for {'learning_rate': 10, 'max_depth': 7, 'n_estimators': 50}\n",
      "0.657 (+/-0.237) for {'learning_rate': 10, 'max_depth': 7, 'n_estimators': 250}\n",
      "0.614 (+/-0.154) for {'learning_rate': 10, 'max_depth': 7, 'n_estimators': 500}\n",
      "0.71 (+/-0.094) for {'learning_rate': 10, 'max_depth': 9, 'n_estimators': 5}\n",
      "0.691 (+/-0.102) for {'learning_rate': 10, 'max_depth': 9, 'n_estimators': 50}\n",
      "0.698 (+/-0.123) for {'learning_rate': 10, 'max_depth': 9, 'n_estimators': 250}\n",
      "0.695 (+/-0.114) for {'learning_rate': 10, 'max_depth': 9, 'n_estimators': 500}\n",
      "0.376 (+/-0.007) for {'learning_rate': 100, 'max_depth': 1, 'n_estimators': 5}\n",
      "0.376 (+/-0.007) for {'learning_rate': 100, 'max_depth': 1, 'n_estimators': 50}\n",
      "0.376 (+/-0.007) for {'learning_rate': 100, 'max_depth': 1, 'n_estimators': 250}\n",
      "0.376 (+/-0.007) for {'learning_rate': 100, 'max_depth': 1, 'n_estimators': 500}\n",
      "0.29 (+/-0.102) for {'learning_rate': 100, 'max_depth': 3, 'n_estimators': 5}\n",
      "0.29 (+/-0.102) for {'learning_rate': 100, 'max_depth': 3, 'n_estimators': 50}\n",
      "0.29 (+/-0.102) for {'learning_rate': 100, 'max_depth': 3, 'n_estimators': 250}\n",
      "0.29 (+/-0.102) for {'learning_rate': 100, 'max_depth': 3, 'n_estimators': 500}\n",
      "0.359 (+/-0.19) for {'learning_rate': 100, 'max_depth': 5, 'n_estimators': 5}\n",
      "0.357 (+/-0.192) for {'learning_rate': 100, 'max_depth': 5, 'n_estimators': 50}\n",
      "0.357 (+/-0.192) for {'learning_rate': 100, 'max_depth': 5, 'n_estimators': 250}\n",
      "0.359 (+/-0.203) for {'learning_rate': 100, 'max_depth': 5, 'n_estimators': 500}\n",
      "0.597 (+/-0.072) for {'learning_rate': 100, 'max_depth': 7, 'n_estimators': 5}\n",
      "0.562 (+/-0.156) for {'learning_rate': 100, 'max_depth': 7, 'n_estimators': 50}\n",
      "0.56 (+/-0.148) for {'learning_rate': 100, 'max_depth': 7, 'n_estimators': 250}\n",
      "0.605 (+/-0.081) for {'learning_rate': 100, 'max_depth': 7, 'n_estimators': 500}\n",
      "0.633 (+/-0.054) for {'learning_rate': 100, 'max_depth': 9, 'n_estimators': 5}\n",
      "0.654 (+/-0.087) for {'learning_rate': 100, 'max_depth': 9, 'n_estimators': 50}\n",
      "0.68 (+/-0.108) for {'learning_rate': 100, 'max_depth': 9, 'n_estimators': 250}\n",
      "0.627 (+/-0.123) for {'learning_rate': 100, 'max_depth': 9, 'n_estimators': 500}\n"
     ]
    }
   ],
   "source": [
    "print_results(cv)"
   ]
  },
  {
   "cell_type": "code",
   "execution_count": 5,
   "metadata": {},
   "outputs": [
    {
     "name": "stdout",
     "output_type": "stream",
     "text": [
      "GradientBoostingClassifier(learning_rate=0.01, n_estimators=500)\n"
     ]
    }
   ],
   "source": [
    "print(cv.best_estimator_)"
   ]
  },
  {
   "cell_type": "code",
   "execution_count": 6,
   "metadata": {},
   "outputs": [
    {
     "data": {
      "text/plain": [
       "['../models/GB_model.pkl']"
      ]
     },
     "execution_count": 6,
     "metadata": {},
     "output_type": "execute_result"
    }
   ],
   "source": [
    "joblib.dump(cv.best_estimator_, \"../models/GB_model.pkl\")"
   ]
  }
 ],
 "metadata": {
  "kernelspec": {
   "display_name": "Python 3 (ipykernel)",
   "language": "python",
   "name": "python3"
  },
  "language_info": {
   "codemirror_mode": {
    "name": "ipython",
    "version": 3
   },
   "file_extension": ".py",
   "mimetype": "text/x-python",
   "name": "python",
   "nbconvert_exporter": "python",
   "pygments_lexer": "ipython3",
   "version": "3.8.9"
  }
 },
 "nbformat": 4,
 "nbformat_minor": 2
}
